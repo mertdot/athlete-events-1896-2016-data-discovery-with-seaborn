{
 "cells": [
  {
   "cell_type": "markdown",
   "metadata": {},
   "source": [
    "# 120 yillik olimpiyat tarihi veri seti\n",
    "## + 120 yillik olimpiyat tarihi veri seti tanitimini ve temizlenmesini veri bilimi bolumunde yaptigimiz icin bu bolumde verinin ice aktarilmasi islemini yapacagiz."
   ]
  },
  {
   "cell_type": "code",
   "execution_count": null,
   "metadata": {},
   "outputs": [],
   "source": [
    "import pandas as pd\n",
    "import matplotlib.pylplot as plt\n",
    "import seaborn as sns\n",
    "\n",
    "import warnings\n",
    "warnings.filterwarnings(\"ignore\")"
   ]
  }
 ],
 "metadata": {
  "language_info": {
   "name": "python"
  },
  "orig_nbformat": 4
 },
 "nbformat": 4,
 "nbformat_minor": 2
}
